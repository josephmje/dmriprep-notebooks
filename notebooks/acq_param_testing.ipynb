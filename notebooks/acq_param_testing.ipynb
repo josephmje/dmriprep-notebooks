{
 "cells": [
  {
   "cell_type": "code",
   "execution_count": 5,
   "metadata": {},
   "outputs": [],
   "source": [
    "import os\n",
    "from bids import BIDSLayout"
   ]
  },
  {
   "cell_type": "code",
   "execution_count": 6,
   "metadata": {},
   "outputs": [],
   "source": [
    "bids_dir = \"../data\""
   ]
  },
  {
   "cell_type": "code",
   "execution_count": 7,
   "metadata": {},
   "outputs": [],
   "source": [
    "layout = BIDSLayout(bids_dir)"
   ]
  },
  {
   "cell_type": "code",
   "execution_count": 1,
   "metadata": {},
   "outputs": [],
   "source": [
    "base_dir = \"/projects/mjoseph/pipelines/testing/data\""
   ]
  },
  {
   "cell_type": "markdown",
   "metadata": {},
   "source": [
    "- GE/Philips: EchoTrainLength it will be Echo train length/PE steps  \n",
    "- SIEMENS: EPIFactor \n",
    "acquisition direction A>>P or P>>A"
   ]
  },
  {
   "cell_type": "markdown",
   "metadata": {},
   "source": [
    "total_readout_time = 1 / PE bandwidth  \n",
    "effective echo spacing = 1 / (PE bandwidth * (ETL - 1) * acc factor)"
   ]
  },
  {
   "cell_type": "markdown",
   "metadata": {},
   "source": [
    "- echo spacing = .53ms\n",
    "- number of in plane lines in the reconstructed epi image = 64\n",
    "- acceleration factor = 2\n",
    "- number of in plane reference lines = 24\n",
    "\n",
    "My questions: \n",
    "What do I have to enter as the echo spacing for b0 field unwarping with \n",
    "feat/fugue?\n",
    "(a) .53ms/2 (echo_spacing*#lines_in_images / acceleration factor) \n",
    "(b) .53*64/(32+24) (echo_spacing*#lines_in_images/(#lines_in_images + \n",
    "#reference_lines))\n",
    "(c) something else ..."
   ]
  },
  {
   "cell_type": "code",
   "execution_count": 5,
   "metadata": {},
   "outputs": [],
   "source": [
    "from bids import BIDSLayout\n",
    "\n",
    "layout = BIDSLayout(base_dir)"
   ]
  },
  {
   "cell_type": "code",
   "execution_count": 4,
   "metadata": {},
   "outputs": [],
   "source": [
    "dwi_file = \"{}/sub-CMP0178/ses-01/dwi/sub-CMP0178_ses-01_acq-singleshell_dwi.nii.gz\""
   ]
  },
  {
   "cell_type": "code",
   "execution_count": 7,
   "metadata": {},
   "outputs": [],
   "source": [
    "metadata = layout.get_metadata(dwi_file)"
   ]
  },
  {
   "cell_type": "code",
   "execution_count": 8,
   "metadata": {},
   "outputs": [
    {
     "data": {
      "text/plain": [
       "{}"
      ]
     },
     "execution_count": 8,
     "metadata": {},
     "output_type": "execute_result"
    }
   ],
   "source": [
    "metadata"
   ]
  },
  {
   "cell_type": "code",
   "execution_count": 1,
   "metadata": {},
   "outputs": [],
   "source": [
    "def read_nifti_sidecar(path):\n",
    "    pth, fname, ext = split_filename(path)\n",
    "    json_file = op.join(pth, fname) + \".json\"\n",
    "    with open(json_file, \"r\") as f:\n",
    "        metadata = json.load(f)\n",
    "    pe_dir = metadata['PhaseEncodingDirection']\n",
    "    slice_times = metadata.get(\"SliceTiming\")\n",
    "    trt = metadata.get(\"TotalReadoutTime\")\n",
    "    if trt is None:\n",
    "        pass\n",
    "\n",
    "    return {\"PhaseEncodingDirection\": pe_dir,\n",
    "            \"SliceTiming\": slice_times,\n",
    "            \"TotalReadoutTime\": trt}"
   ]
  },
  {
   "cell_type": "code",
   "execution_count": 2,
   "metadata": {},
   "outputs": [],
   "source": [
    "acqp_lines = {\n",
    "    \"i\": '1 0 0 %.6f',\n",
    "    \"j\": '0 1 0 %.6f',\n",
    "    \"k\": '0 0 1 %.6f',\n",
    "    \"i-\": '-1 0 0 %.6f',\n",
    "    \"j-\": '0 -1 0 %.6f',\n",
    "    \"k-\": '0 0 -1 %.6f'}"
   ]
  },
  {
   "cell_type": "code",
   "execution_count": 3,
   "metadata": {},
   "outputs": [],
   "source": [
    "def eddy_inputs_from_dwi_files(origin_file_list, dwi_files, eddy_prefix):\n",
    "    unique_files = list(set(origin_file_list))\n",
    "    line_lookup = {}\n",
    "    acqp_data = []\n",
    "    for line_num, unique_dwi in enumerate(unique_files):\n",
    "        spec = read_nifti_sidecar(unique_dwi)\n",
    "        spec_line = acqp_lines[spec['PhaseEncodingDirection']]\n",
    "        acqp_line = spec_line % spec['TotalReadoutTime']\n",
    "        line_lookup[unique_dwi] = line_num + 1\n",
    "        acqp_data.append(acqp_line)\n",
    "\n",
    "    # Create the acqp file\n",
    "    acqp_file = eddy_prefix + \"acqp.txt\"\n",
    "    with open(acqp_file, \"w\") as f:\n",
    "        f.write(\"\\n\".join(acqp_data))\n",
    "\n",
    "    # Create the index file\n",
    "    index_file = eddy_prefix + \"index.txt\"\n",
    "    index_numbers = [line_lookup[dwi_file] for dwi_file in origin_file_list]\n",
    "    with open(index_file, \"w\") as f:\n",
    "        f.write(\" \".join(map(str, index_numbers)))\n",
    "\n",
    "    return acqp_file, index_file"
   ]
  },
  {
   "cell_type": "code",
   "execution_count": 4,
   "metadata": {},
   "outputs": [],
   "source": [
    "def topup_inputs_from_dwi_files(dwi_file_list, b0_file_list, topup_prefix, cwd, max_per_spec=3):\n",
    "    \"\"\"Create a datain spec and a slspec from a list of dwi files.\"\"\"\n",
    "    unique_files = list(set(dwi_file_list))\n",
    "    spec_lookup = {}\n",
    "    slicetime_lookup = {}\n",
    "    for unique_dwi in unique_files:\n",
    "        spec = read_nifti_sidecar(unique_dwi)\n",
    "        spec_line = acqp_lines[spec['PhaseEncodingDirection']]\n",
    "        spec_lookup[unique_dwi] = spec_line % spec['TotalReadoutTime']\n",
    "        slicetime_lookup[unique_dwi] = spec['SliceTiming']\n",
    "\n",
    "    # Write the datain.txt file\n",
    "    datain_lines = []\n",
    "    imain_images = []\n",
    "    image_data = []\n",
    "    spec_counts = defaultdict(int)\n",
    "\n",
    "    def atleast4d(data):\n",
    "        if data.ndim == 4:\n",
    "            return data\n",
    "        if data.ndim == 3:\n",
    "            return data[:, :, :, np.newaxis]\n",
    "        raise Exception(\"Less than 3 dimensions in b0 image\")\n",
    "\n",
    "    for dwi_file, b0_file in zip(dwi_file_list, b0_file_list):\n",
    "        img = nb.load(b0_file)\n",
    "        line = spec_lookup[dwi_file]\n",
    "        num_trs = 1 if len(img.shape) < 4 else img.shape[3]\n",
    "        available_slots = max_per_spec - spec_counts[line]\n",
    "\n",
    "        if available_slots <= 0:\n",
    "            continue\n",
    "\n",
    "        if available_slots >= num_trs:\n",
    "            datain_lines.extend([line] * num_trs)\n",
    "            spec_counts[line] += num_trs\n",
    "            imain_images.append(b0_file)\n",
    "            image_data.append(atleast4d(img.get_fdata()))\n",
    "        else:\n",
    "            # Too many images for this spec\n",
    "            num_to_add = available_slots\n",
    "            truncated_image = fname_presuffix(b0_file, newpath=cwd, suffix=\"truncated\")\n",
    "            orig_img = nb.load(b0_file)\n",
    "            LOGGER.warning(\"Truncating %s to %d volumes\", b0_file, num_to_add)\n",
    "            nb.Nifti1Image(atleast4d(orig_img.get_fdata())[:, :, :, :num_to_add],\n",
    "                           orig_img.affine, orig_img.header).to_filename(truncated_image)\n",
    "            imain_images.append(truncated_image)\n",
    "            datain_lines.extend([line] * num_to_add)\n",
    "            spec_counts[line] += num_to_add\n",
    "\n",
    "    # Make a 4d series\n",
    "    images = [nb.load(img) for img in imain_images]\n",
    "    image_data = [img.get_fdata()[..., np.newaxis] if len(img.shape) == 3 else img.get_fdata()\n",
    "                  for img in images]\n",
    "    imain_output = topup_prefix + \"imain.nii.gz\"\n",
    "    imain_img = nb.Nifti1Image(np.concatenate(image_data, 3), images[0].affine, images[0].header)\n",
    "    assert imain_img.shape[3] == len(datain_lines)\n",
    "    imain_img.to_filename(imain_output)\n",
    "\n",
    "    # Write the datain text file\n",
    "    datain_file = topup_prefix + \"datain.txt\"\n",
    "    with open(datain_file, \"w\") as f:\n",
    "        f.write(\"\\n\".join(datain_lines))\n",
    "\n",
    "    # Check the slicetiming files\n",
    "    return datain_file, imain_output\n"
   ]
  },
  {
   "cell_type": "code",
   "execution_count": null,
   "metadata": {},
   "outputs": [],
   "source": []
  }
 ],
 "metadata": {
  "kernelspec": {
   "display_name": "dmriprep_venv",
   "language": "python",
   "name": "dmriprep_venv"
  },
  "language_info": {
   "codemirror_mode": {
    "name": "ipython",
    "version": 3
   },
   "file_extension": ".py",
   "mimetype": "text/x-python",
   "name": "python",
   "nbconvert_exporter": "python",
   "pygments_lexer": "ipython3",
   "version": "3.7.3"
  }
 },
 "nbformat": 4,
 "nbformat_minor": 4
}

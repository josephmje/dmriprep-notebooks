{
 "cells": [
  {
   "cell_type": "code",
   "execution_count": 1,
   "metadata": {},
   "outputs": [
    {
     "name": "stderr",
     "output_type": "stream",
     "text": [
      "/scratch/mjoseph/.pyenv/versions/dwi_venv/lib/python3.7/site-packages/sklearn/externals/joblib/__init__.py:15: DeprecationWarning: sklearn.externals.joblib is deprecated in 0.21 and will be removed in 0.23. Please import this functionality directly from joblib, which can be installed with: pip install joblib. If this warning is raised when loading pickled models, you may need to re-serialize those models with scikit-learn 0.21+.\n",
      "  warnings.warn(msg, category=DeprecationWarning)\n"
     ]
    }
   ],
   "source": [
    "from nilearn.image import threshold_img, load_img\n",
    "from niworkflows import NIWORKFLOWS_LOG\n",
    "from niworkflows.viz.utils import cuts_from_bbox, compose_view\n",
    "from nipype.interfaces.base import File, isdefined\n",
    "from nipype.interfaces.mixins import reporting"
   ]
  },
  {
   "cell_type": "code",
   "execution_count": 5,
   "metadata": {},
   "outputs": [],
   "source": [
    "def plot_registration(\n",
    "    anat_nii,\n",
    "    div_id,\n",
    "    plot_params=None,\n",
    "    order=(\"z\", \"x\", \"y\"),\n",
    "    cuts=None,\n",
    "    estimate_brightness=False,\n",
    "    label=None,\n",
    "    contour=None,\n",
    "    compress=\"auto\",\n",
    "):\n",
    "    \"\"\"\n",
    "    Plot the foreground and background views.\n",
    "    Default order is: axial, coronal, sagittal\n",
    "    \"\"\"\n",
    "    from uuid import uuid4\n",
    "\n",
    "    from lxml import etree\n",
    "    from nilearn.plotting import plot_anat\n",
    "    from svgutils.transform import SVGFigure\n",
    "    from niworkflows.viz.utils import robust_set_limits, extract_svg, SVGNS\n",
    "\n",
    "    plot_params = plot_params or {}\n",
    "\n",
    "    # Use default MNI cuts if none defined\n",
    "    if cuts is None:\n",
    "        raise NotImplementedError  # TODO\n",
    "\n",
    "    out_files = []\n",
    "    if estimate_brightness:\n",
    "        plot_params = robust_set_limits(anat_nii.get_data().reshape(-1), plot_params)\n",
    "\n",
    "    # Plot each cut axis\n",
    "    for i, mode in enumerate(list(order)):\n",
    "        plot_params[\"display_mode\"] = mode\n",
    "        plot_params[\"cut_coords\"] = cuts[mode]\n",
    "        if i == 0:\n",
    "            plot_params[\"title\"] = label\n",
    "        else:\n",
    "            plot_params[\"title\"] = None\n",
    "\n",
    "        # Generate nilearn figure\n",
    "        display = plot_anat(anat_nii, **plot_params)\n",
    "        if contour is not None:\n",
    "            display.add_contours(contour, colors=\"g\", levels=[0.5], linewidths=0.5)\n",
    "\n",
    "        svg = extract_svg(display, compress=compress)\n",
    "        display.close()\n",
    "\n",
    "        # Find and replace the figure_1 id.\n",
    "        xml_data = etree.fromstring(svg)\n",
    "        find_text = etree.ETXPath(\"//{%s}g[@id='figure_1']\" % SVGNS)\n",
    "        find_text(xml_data)[0].set(\"id\", \"%s-%s-%s\" % (div_id, mode, uuid4()))\n",
    "\n",
    "        svg_fig = SVGFigure()\n",
    "        svg_fig.root = xml_data\n",
    "        out_files.append(svg_fig)\n",
    "\n",
    "    return out_files"
   ]
  },
  {
   "cell_type": "code",
   "execution_count": 4,
   "metadata": {},
   "outputs": [
    {
     "ename": "TypeError",
     "evalue": "load_img() missing 1 required positional argument: 'img'",
     "output_type": "error",
     "traceback": [
      "\u001b[0;31m---------------------------------------------------------------------------\u001b[0m",
      "\u001b[0;31mTypeError\u001b[0m                                 Traceback (most recent call last)",
      "\u001b[0;32m<ipython-input-4-98882ec82fda>\u001b[0m in \u001b[0;36m<module>\u001b[0;34m\u001b[0m\n\u001b[0;32m----> 1\u001b[0;31m \u001b[0mref_nii\u001b[0m \u001b[0;34m=\u001b[0m \u001b[0mload_img\u001b[0m\u001b[0;34m(\u001b[0m\u001b[0;34m)\u001b[0m\u001b[0;34m\u001b[0m\u001b[0;34m\u001b[0m\u001b[0m\n\u001b[0m\u001b[1;32m      2\u001b[0m \u001b[0mfmap_nii\u001b[0m \u001b[0;34m=\u001b[0m \u001b[0mload_img\u001b[0m\u001b[0;34m(\u001b[0m\u001b[0;34m)\u001b[0m\u001b[0;34m\u001b[0m\u001b[0;34m\u001b[0m\u001b[0m\n\u001b[1;32m      3\u001b[0m \u001b[0mmask_nii\u001b[0m \u001b[0;34m=\u001b[0m \u001b[0mthreshold_img\u001b[0m\u001b[0;34m(\u001b[0m\u001b[0mref_nii\u001b[0m\u001b[0;34m,\u001b[0m \u001b[0;36m1e-3\u001b[0m\u001b[0;34m)\u001b[0m\u001b[0;34m\u001b[0m\u001b[0;34m\u001b[0m\u001b[0m\n\u001b[1;32m      4\u001b[0m \u001b[0mcuts\u001b[0m \u001b[0;34m=\u001b[0m \u001b[0mcuts_from_bbox\u001b[0m\u001b[0;34m(\u001b[0m\u001b[0mmask_nii\u001b[0m\u001b[0;34m,\u001b[0m \u001b[0mcuts\u001b[0m\u001b[0;34m=\u001b[0m\u001b[0mn_cuts\u001b[0m\u001b[0;34m)\u001b[0m\u001b[0;34m\u001b[0m\u001b[0;34m\u001b[0m\u001b[0m\n",
      "\u001b[0;31mTypeError\u001b[0m: load_img() missing 1 required positional argument: 'img'"
     ]
    }
   ],
   "source": [
    "ref_nii = load_img()\n",
    "fmap_nii = load_img()\n",
    "contour_nii = load_img()\n",
    "out_report = \"test.svg\"\n",
    "\n",
    "mask_nii = threshold_img(ref_nii, 1e-3)\n",
    "n_cuts = 7\n",
    "cuts = cuts_from_bbox(mask_nii, cuts=n_cuts)"
   ]
  },
  {
   "cell_type": "code",
   "execution_count": null,
   "metadata": {},
   "outputs": [],
   "source": [
    "fmap_data = fmap_nii.get_fdata()\n",
    "vmax = max(fmap_data.max(), abs(fmap_data.min()))"
   ]
  },
  {
   "cell_type": "code",
   "execution_count": null,
   "metadata": {},
   "outputs": [],
   "source": [
    "compose_view(\n",
    "    plot_registration(ref_nii, 'fixed-image',\n",
    "                      estimate_brightness=True,\n",
    "                      cuts=cuts,\n",
    "                      label='reference',\n",
    "                      contour=contour_nii,\n",
    "                      compress=False),\n",
    "    plot_registration(fmapnii, 'moving-image',\n",
    "                      estimate_brightness=True,\n",
    "                      cuts=cuts,\n",
    "                      label='fieldmap (Hz)',\n",
    "                      contour=contour_nii,\n",
    "                      compress=False,\n",
    "                      plot_params={'cmap': coolwarm_transparent(),\n",
    "                                   'vmax': vmax,\n",
    "                                   'vmin': -vmax}),"
   ]
  }
 ],
 "metadata": {
  "kernelspec": {
   "display_name": "dwi_venv",
   "language": "python",
   "name": "dwi_venv"
  },
  "language_info": {
   "codemirror_mode": {
    "name": "ipython",
    "version": 3
   },
   "file_extension": ".py",
   "mimetype": "text/x-python",
   "name": "python",
   "nbconvert_exporter": "python",
   "pygments_lexer": "ipython3",
   "version": "3.7.3"
  }
 },
 "nbformat": 4,
 "nbformat_minor": 2
}

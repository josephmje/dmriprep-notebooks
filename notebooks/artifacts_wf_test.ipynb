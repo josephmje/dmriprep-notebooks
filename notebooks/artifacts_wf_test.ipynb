{
 "cells": [
  {
   "cell_type": "code",
   "execution_count": null,
   "metadata": {},
   "outputs": [],
   "source": [
    "import os\n",
    "\n",
    "from bids import BIDSLayout\n",
    "from nipype.pipeline import engine as pe\n",
    "from nipype.interfaces import mrtrix3, utility as niu"
   ]
  },
  {
   "cell_type": "code",
   "execution_count": null,
   "metadata": {},
   "outputs": [],
   "source": [
    "def init_dwi_artifacts_wf(ignore, output_resolution):\n",
    "    \n",
    "    wf = pe.Workflow(name='dwi_artifacts_wf')\n",
    "\n",
    "    inputnode = pe.Node(niu.IdentityInterface(fields=['dwi_file']), name='inputnode')\n",
    "\n",
    "    outputnode = pe.Node(niu.IdentityInterface(fields=['out_file']), name='outputnode')\n",
    "\n",
    "    dwibuffer = pe.Node(niu.IdentityInterface(fields=['dwi_file']), name='dwibuffer')\n",
    "\n",
    "    denoise = pe.Node(mrtrix3.DWIDenoise(), name='denoise')\n",
    "\n",
    "    unring = pe.Node(mrtrix3.MRDeGibbs(), name='unring')\n",
    "\n",
    "    resize = pe.Node(mrtrix3.MRResize(), name='resize')\n",
    "\n",
    "    if ignore == ['denoising']:\n",
    "        wf.connect([\n",
    "            (inputnode, unring, [('dwi_file', 'in_file')]),\n",
    "            (unring, dwibuffer, [('out_file', 'dwi_file')])\n",
    "        ])\n",
    "\n",
    "    elif ignore == ['unringing']:\n",
    "        wf.connect([\n",
    "            (inputnode, denoise, [('dwi_file', 'in_file')]),\n",
    "            (denoise, dwibuffer, [('out_file', 'dwi_file')])\n",
    "        ])\n",
    "\n",
    "    elif ['denoising', 'unringing'] in ignore:\n",
    "        wf.connect([\n",
    "            (inputnode, dwibuffer, 'dwi_file', 'dwi_file')\n",
    "        ])\n",
    "\n",
    "    else:\n",
    "        wf.connect([\n",
    "            (inputnode, denoise, [('dwi_file', 'in_file')]),\n",
    "            (denoise, unring, [('out_file', 'in_file')]),\n",
    "            (unring, dwibuffer, [('out_file', 'dwi_file')])\n",
    "        ])\n",
    "\n",
    "    if output_resolution:\n",
    "        resize.inputs.voxel_size=output_resolution\n",
    "        wf.connect([\n",
    "            (dwibuffer, resize, [('dwi_file', 'in_file')]),\n",
    "            (resize, outputnode, [('out_file', 'out_file')])\n",
    "        ])\n",
    "\n",
    "    else:\n",
    "        wf.connect([\n",
    "            (dwibuffer, outputnode, [('dwi_file', 'out_file')])\n",
    "        ])\n",
    "\n",
    "    return wf"
   ]
  },
  {
   "cell_type": "code",
   "execution_count": null,
   "metadata": {},
   "outputs": [],
   "source": [
    "data_dir = os.path.abspath(\"../data\")\n",
    "layout = BIDSLayout(data_dir)"
   ]
  },
  {
   "cell_type": "code",
   "execution_count": null,
   "metadata": {},
   "outputs": [],
   "source": [
    "dwi_files = layout.get(datatype=\"dwi\", extension=[\"nii.gz\", \"nii\"], return_type=\"file\")"
   ]
  },
  {
   "cell_type": "code",
   "execution_count": null,
   "metadata": {},
   "outputs": [],
   "source": [
    "dwi_file = dwi_files[-5]\n",
    "ignore = ['denoising']\n",
    "output_resolution = ()"
   ]
  },
  {
   "cell_type": "code",
   "execution_count": null,
   "metadata": {},
   "outputs": [],
   "source": [
    "test_wf = init_dwi_artifacts_wf(ignore, output_resolution)\n",
    "test_wf.base_dir = os.getcwd()\n",
    "\n",
    "inputspec = test_wf.get_node(\"inputnode\")\n",
    "inputspec.inputs.dwi_file = dwi_file\n",
    "\n",
    "test_wf.write_graph(graph2use=\"colored\")\n",
    "test_wf.config[\"execution\"][\"remove_unnecessary_outputs\"] = False\n",
    "test_wf.config[\"execution\"][\"keep_inputs\"] = True\n",
    "test_wf.config[\"execution\"][\"crashfile_format\"] = \"txt\"\n",
    "\n",
    "test_wf.run()"
   ]
  }
 ],
 "metadata": {
  "kernelspec": {
   "display_name": "dwi_venv",
   "language": "python",
   "name": "dwi_venv"
  },
  "language_info": {
   "codemirror_mode": {
    "name": "ipython",
    "version": 3
   },
   "file_extension": ".py",
   "mimetype": "text/x-python",
   "name": "python",
   "nbconvert_exporter": "python",
   "pygments_lexer": "ipython3",
   "version": "3.7.3"
  }
 },
 "nbformat": 4,
 "nbformat_minor": 4
}

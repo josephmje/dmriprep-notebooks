{
 "cells": [
  {
   "cell_type": "markdown",
   "metadata": {},
   "source": [
    "CAMH studies with single-shell or multi-shell scans acquired in separate images include:\n",
    "- COGBDO\n",
    "- COGBDY\n",
    "- DBDC\n",
    "- DTI15T\n",
    "- DTI3T\n",
    "- PACTMD\n",
    "- PASD01\n",
    "- RTMSWM\n",
    "\n",
    "What combinations of scans do we expect from each study? Write doctests to cover them.\n",
    "```\n",
    "['.../ds001/sub-01/ses-01/dwi/sub-01_ses-01_acq-multishelldir30b1000_dwi.nii.gz',\n",
    " '.../ds001/sub-01/ses-01/dwi/sub-01_ses-01_acq-multishelldir30b3000_dwi.nii.gz',\n",
    " '.../ds001/sub-01/ses-01/dwi/sub-01_ses-01_acq-multishelldir30b4500_dwi.nii.gz',\n",
    " '.../ds001/sub-01/ses-01/dwi/sub-01_ses-01_acq-singleshelldir60b1000_dwi.nii.gz']\n",
    "['.../ds001/sub-01/ses-01/dwi/sub-01_ses-01_acq-singleshelldir21b1000_dwi.nii.gz',\n",
    " '.../ds001/sub-01/ses-01/dwi/sub-01_ses-01_acq-singleshelldir22b1000_dwi.nii.gz',\n",
    " '.../ds001/sub-01/ses-01/dwi/sub-01_ses-01_acq-singleshelldir23b1000_dwi.nii.gz',\n",
    " '.../ds001/sub-01/ses-02/dwi/sub-01_ses-02_acq-singleshelldir21b1000_dwi.nii.gz',\n",
    " '.../ds001/sub-01/ses-02/dwi/sub-01_ses-02_acq-singleshelldir22b1000_dwi.nii.gz',\n",
    " '.../ds001/sub-01/ses-02/dwi/sub-01_ses-02_acq-singleshelldir23b1000_dwi.nii.gz']\n",
    "['.../ds001/sub-01/ses-01/dwi/sub-01_ses-01_acq-singleshelldir20b1000_run-1_dwi.nii.gz',\n",
    " '.../ds001/sub-01/ses-01/dwi/sub-01_ses-01_acq-singleshelldir20b1000_run-2_dwi.nii.gz',\n",
    " '.../ds001/sub-01/ses-01/dwi/sub-01_ses-01_acq-singleshelldir20b1000_run-3_dwi.nii.gz']\n",
    "```\n",
    "\n",
    "Group scans by:\n",
    "1. session_label\n",
    "2. _acq-<>\n",
    "3. _run-<>\n",
    "\n",
    "Some scans have `NumberofAverages` stored in the header."
   ]
  },
  {
   "cell_type": "code",
   "execution_count": 23,
   "metadata": {},
   "outputs": [],
   "source": [
    "import os\n",
    "\n",
    "from bids import BIDSLayout\n",
    "from nipype.pipeline import engine as pe\n",
    "from nipype.interfaces import BIDSDataGrabber, utility as niu"
   ]
  },
  {
   "cell_type": "code",
   "execution_count": 24,
   "metadata": {},
   "outputs": [],
   "source": [
    "class BIDSError(ValueError):\n",
    "    def __init__(self, message, bids_root):\n",
    "        indent = 10\n",
    "        header = '{sep} BIDS root folder: \"{bids_root}\" {sep}'.format(\n",
    "            bids_root=bids_root, sep=\"\".join([\"-\"] * indent)\n",
    "        )\n",
    "        self.msg = \"\\n{header}\\n{indent}{message}\\n{footer}\".format(\n",
    "            header=header,\n",
    "            indent=\"\".join([\" \"] * (indent + 1)),\n",
    "            message=message,\n",
    "            footer=\"\".join([\"-\"] * len(header)),\n",
    "        )\n",
    "        super(BIDSError, self).__init__(self.msg)\n",
    "        self.bids_root = bids_root\n",
    "\n",
    "\n",
    "class BIDSWarning(RuntimeWarning):\n",
    "    pass"
   ]
  },
  {
   "cell_type": "code",
   "execution_count": 25,
   "metadata": {},
   "outputs": [],
   "source": [
    "def collect_participants(bids_dir, participant_label=None, strict=False, bids_validate=True):\n",
    "\n",
    "    if isinstance(bids_dir, BIDSLayout):\n",
    "        layout = bids_dir\n",
    "    else:\n",
    "        layout = BIDSLayout(str(bids_dir), validate=bids_validate)\n",
    "\n",
    "    all_participants = set(layout.get_subjects())\n",
    "\n",
    "    # Error: bids_dir does not contain subjects\n",
    "    if not all_participants:\n",
    "        raise BIDSError(\n",
    "            \"Could not find participants. Please make sure the BIDS data \"\n",
    "            \"structure is present and correct. Datasets can be validated online \"\n",
    "            \"using the BIDS Validator (http://bids-standard.github.io/bids-validator/).\\n\"\n",
    "            \"If you are using Docker for Mac or Docker for Windows, you \"\n",
    "            'may need to adjust your \"File sharing\" preferences.',\n",
    "            bids_dir,\n",
    "        )\n",
    "\n",
    "    # No --participant-label was set, return all\n",
    "    if not participant_label:\n",
    "        return sorted(all_participants)\n",
    "\n",
    "    if isinstance(participant_label, str):\n",
    "        participant_label = [participant_label]\n",
    "\n",
    "    # Drop sub- prefixes\n",
    "    participant_label = [\n",
    "        sub[4:] if sub.startswith(\"sub-\") else sub for sub in participant_label\n",
    "    ]\n",
    "    # Remove duplicates\n",
    "    participant_label = sorted(set(participant_label))\n",
    "\n",
    "    # Remove labels not found\n",
    "    found_label = sorted(set(participant_label) & all_participants)\n",
    "    if not found_label:\n",
    "        raise BIDSError(\n",
    "            \"Could not find participants [{}]\".format(\", \".join(participant_label)),\n",
    "            bids_dir,\n",
    "        )\n",
    "\n",
    "    # Warn if some IDs were not found\n",
    "    notfound_label = sorted(set(participant_label) - all_participants)\n",
    "    if notfound_label:\n",
    "        exc = BIDSError(\n",
    "            \"Some participants were not found: {}\".format(\", \".join(notfound_label)),\n",
    "            bids_dir,\n",
    "        )\n",
    "        if strict:\n",
    "            raise exc\n",
    "        warnings.warn(exc.msg, BIDSWarning)\n",
    "\n",
    "    return all_participants, found_label"
   ]
  },
  {
   "cell_type": "code",
   "execution_count": 48,
   "metadata": {},
   "outputs": [],
   "source": [
    "def collect_data(bids_dir, participant_label, session_label=None, bids_validate=True):\n",
    "\n",
    "    if isinstance(bids_dir, BIDSLayout):\n",
    "        layout = bids_dir\n",
    "    else:\n",
    "        layout = BIDSLayout(str(bids_dir), validate=bids_validate)\n",
    "\n",
    "    queries = {\n",
    "        'fmap': {'datatype': 'fmap'},\n",
    "        'dwi': {'datatype': 'dwi', 'suffix': 'dwi'},\n",
    "        't1w': {'datatype': 'anat', 'suffix': 'T1w'}\n",
    "    }\n",
    "    \n",
    "    if not session_label:\n",
    "        session_label = layout.get_sessions()\n",
    "        \n",
    "    subj_data = {\n",
    "        dtype: sorted(layout.get(return_type='file',\n",
    "                                 subject=participant_label, session=session_label,\n",
    "                                 extension=['nii', 'nii.gz'], **query))\n",
    "        for dtype, query in queries.items()}\n",
    "\n",
    "    return subj_data, layout"
   ]
  },
  {
   "cell_type": "code",
   "execution_count": 55,
   "metadata": {},
   "outputs": [],
   "source": [
    "bids_dir = '/archive/data/DTI3T/data/bids'\n",
    "layout = BIDSLayout(bids_dir)"
   ]
  },
  {
   "cell_type": "code",
   "execution_count": 62,
   "metadata": {},
   "outputs": [],
   "source": [
    "participant_label = 'CMHH166'\n",
    "session_label = '01'\n",
    "concat_dwis = [\"multishelldir30b1000\", \"multishelldir30b3000\", \"multishelldir30b4500\"]"
   ]
  },
  {
   "cell_type": "code",
   "execution_count": 57,
   "metadata": {},
   "outputs": [],
   "source": [
    "all_subjects, subject_list = collect_participants(layout, participant_label)"
   ]
  },
  {
   "cell_type": "code",
   "execution_count": 59,
   "metadata": {},
   "outputs": [],
   "source": [
    "for subject_id in subject_list:\n",
    "    subject_data = collect_data(layout, subject_id)"
   ]
  },
  {
   "cell_type": "code",
   "execution_count": 61,
   "metadata": {},
   "outputs": [
    {
     "data": {
      "text/plain": [
       "({'fmap': [],\n",
       "  'dwi': ['/archive/data/DTI3T/data/bids/sub-CMHH166/ses-01/dwi/sub-CMHH166_ses-01_acq-multishelldir30b1000_run-1_dwi.nii.gz',\n",
       "   '/archive/data/DTI3T/data/bids/sub-CMHH166/ses-01/dwi/sub-CMHH166_ses-01_acq-multishelldir30b3000_run-1_dwi.nii.gz',\n",
       "   '/archive/data/DTI3T/data/bids/sub-CMHH166/ses-01/dwi/sub-CMHH166_ses-01_acq-multishelldir30b4500_run-1_dwi.nii.gz',\n",
       "   '/archive/data/DTI3T/data/bids/sub-CMHH166/ses-01/dwi/sub-CMHH166_ses-01_acq-singleshelldir60b1000_run-1_dwi.nii.gz'],\n",
       "  't1w': ['/archive/data/DTI3T/data/bids/sub-CMHH166/ses-01/anat/sub-CMHH166_ses-01_run-1_T1w.nii.gz']},\n",
       " BIDS Layout: .../archive/data/DTI3T/data/bids | Subjects: 124 | Sessions: 126 | Runs: 146)"
      ]
     },
     "execution_count": 61,
     "metadata": {},
     "output_type": "execute_result"
    }
   ],
   "source": [
    "subject_data"
   ]
  },
  {
   "cell_type": "code",
   "execution_count": null,
   "metadata": {},
   "outputs": [],
   "source": [
    "if any(['_ses-' in dwi for dwi in subject_data['dwi']]):\n",
    "    subject_data['dwi'] = group_multisession(subject_data['dwi'])"
   ]
  },
  {
   "cell_type": "code",
   "execution_count": null,
   "metadata": {},
   "outputs": [],
   "source": [
    "def group_multisession(dwi_sess):\n",
    "\n",
    "    from itertools import groupby\n",
    "\n",
    "    def _grp_echos(x):\n",
    "        if '_echo-' not in x:\n",
    "            return x\n",
    "        echo = re.search(\"_echo-\\\\d*\", x).group(0)\n",
    "        return x.replace(echo, \"_echo-?\")\n",
    "\n",
    "    ses_uids = []\n",
    "    for _, bold in groupby(bold_sess, key=_grp_echos):\n",
    "        bold = list(bold)\n",
    "        # If single- or dual-echo, flatten list; keep list otherwise.\n",
    "        action = getattr(ses_uids, 'append' if len(bold) > 2 else 'extend')\n",
    "        action(bold)\n",
    "    return ses_uids"
   ]
  },
  {
   "cell_type": "code",
   "execution_count": 19,
   "metadata": {},
   "outputs": [],
   "source": [
    "def group_dwis(dwi_files, sessions, concat_dwis):\n",
    "\n",
    "    all_dwis = []\n",
    "\n",
    "    if sessions:\n",
    "        session_dwi_groups = []\n",
    "        for session in sessions:\n",
    "            session_dwi_files = [img for img in dwi_files if 'ses-{}'.format(session) in img]\n",
    "            for f in session_dwi_files:\n",
    "                if any(acq in f for acq in concat_dwis):\n",
    "                    session_dwi_groups.append(f)\n",
    "                else:\n",
    "                    all_dwis.append(f)\n",
    "        all_dwis.append(session_dwi_groups)\n",
    "    else:\n",
    "        all_dwis.append(f)\n",
    "\n",
    "    return all_dwis"
   ]
  }
 ],
 "metadata": {
  "kernelspec": {
   "display_name": "dwi_venv",
   "language": "python",
   "name": "dwi_venv"
  },
  "language_info": {
   "codemirror_mode": {
    "name": "ipython",
    "version": 3
   },
   "file_extension": ".py",
   "mimetype": "text/x-python",
   "name": "python",
   "nbconvert_exporter": "python",
   "pygments_lexer": "ipython3",
   "version": "3.7.3"
  }
 },
 "nbformat": 4,
 "nbformat_minor": 4
}

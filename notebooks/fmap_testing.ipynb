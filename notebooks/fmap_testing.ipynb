{
 "cells": [
  {
   "cell_type": "markdown",
   "metadata": {},
   "source": [
    "https://fmriprep.readthedocs.io/en/0.5.0/sdc/estimation.html"
   ]
  },
  {
   "cell_type": "code",
   "execution_count": 16,
   "metadata": {},
   "outputs": [],
   "source": [
    "import os\n",
    "\n",
    "from bids import BIDSLayout"
   ]
  },
  {
   "cell_type": "code",
   "execution_count": 17,
   "metadata": {},
   "outputs": [],
   "source": [
    "base_dir = os.path.abspath(\"data\")\n",
    "output_dir = os.path.abspath(\"outputs\")\n",
    "\n",
    "layout = BIDSLayout(base_dir)"
   ]
  },
  {
   "cell_type": "code",
   "execution_count": 18,
   "metadata": {},
   "outputs": [],
   "source": [
    "def get_fmaps(dwi_file):\n",
    "    dwi_metadata = layout.get_metadata(dwi_file)\n",
    "    fmaps = []\n",
    "    fmaps = layout.get_fieldmap(dwi_file, return_list=True)\n",
    "    if not fmaps:\n",
    "        print(\"No fmaps found\")\n",
    "    for fmap in fmaps:\n",
    "        if fmap[\"suffix\"] == \"phase\":\n",
    "            fmap[\"metadata\"] = {}\n",
    "            fmap[\"metadata\"][\"phase1\"] = layout.get_metadata(fmap[\"phase1\"])\n",
    "            fmap[\"metadata\"][\"phase2\"] = layout.get_metadata(fmap[\"phase2\"])\n",
    "        else:\n",
    "            fmap[\"metadata\"] = layout.get_metadata(fmap[fmap[\"suffix\"]])\n",
    "    \n",
    "    FMAP_PRIORITY = {\"epi\": 0, \"fieldmap\": 1, \"phasediff\": 2, \"phase\": 3, \"syn\": 4}\n",
    "    \n",
    "    fmaps.sort(key=lambda fmap: FMAP_PRIORITY[fmap[\"suffix\"]])\n",
    "    \n",
    "    return fmaps"
   ]
  },
  {
   "cell_type": "markdown",
   "metadata": {},
   "source": [
    "### Topup"
   ]
  },
  {
   "cell_type": "code",
   "execution_count": 19,
   "metadata": {},
   "outputs": [
    {
     "name": "stderr",
     "output_type": "stream",
     "text": [
      "/Users/Michael/.pyenv/versions/dwi_venv/lib/python3.7/site-packages/bids/layout/layout.py:659: UserWarning: In pybids 0.9.0, the 'extensions' filter was deprecated in favor of 'extension'. The former will stop working in 0.11.0.\n",
      "  warnings.warn(\"In pybids 0.9.0, the 'extensions' filter was \"\n"
     ]
    }
   ],
   "source": [
    "subject_id = \"NDARAJ366ZFA\"\n",
    "dwi_files = layout.get(subject=subject_id, datatype=\"dwi\", suffix=\"dwi\", extensions=[\".nii\", \".nii.gz\"], return_type=\"filename\")"
   ]
  },
  {
   "cell_type": "code",
   "execution_count": 20,
   "metadata": {},
   "outputs": [],
   "source": [
    "for dwi_file in dwi_files:\n",
    "    dwi_metadata = layout.get_metadata(dwi_file)\n",
    "    fmaps = get_fmaps(dwi_file)"
   ]
  },
  {
   "cell_type": "code",
   "execution_count": 21,
   "metadata": {},
   "outputs": [],
   "source": [
    "fmap = fmaps[0]\n",
    "if fmap[\"suffix\"] == \"epi\":\n",
    "    epi_fmaps = [(fmap_['epi'], fmap_['metadata'][\"PhaseEncodingDirection\"]) for fmap_ in fmaps if fmap_['suffix'] == 'epi']"
   ]
  },
  {
   "cell_type": "code",
   "execution_count": 23,
   "metadata": {},
   "outputs": [],
   "source": [
    "dwi_file_pe = dwi_metadata[\"PhaseEncodingDirection\"]\n",
    "\n",
    "usable_fieldmaps_matching_pe = []\n",
    "usable_fieldmaps_opposite_pe = []\n",
    "\n",
    "for fmap, pe_dir in epi_fmaps:\n",
    "    if pe_dir == dwi_file_pe:\n",
    "        usable_fieldmaps_matching_pe.append(fmap)\n",
    "    elif pe_dir[0] == dwi_file_pe[0]:\n",
    "        usable_fieldmaps_opposite_pe.append(fmap)\n",
    "    \n",
    "if not usable_fieldmaps_opposite_pe:\n",
    "    print(\"Can't use topup\")"
   ]
  },
  {
   "cell_type": "code",
   "execution_count": 24,
   "metadata": {},
   "outputs": [],
   "source": [
    "from nipype.pipeline import engine as pe\n",
    "from nipype.interfaces import fsl, utility as niu\n",
    "\n",
    "def init_topup_wf(epi_fmaps):\n",
    "    \n",
    "    PE_DIRECTION_MAPPING = {\n",
    "    \"i\" : \"x\",\n",
    "    \"i-\": \"x-\",\n",
    "    \"j\" : \"y\",\n",
    "    \"j-\" : \"y-\",\n",
    "    \"k\" : \"z\",\n",
    "    \"k-\" : \"z-\"\n",
    "    }\n",
    "    \n",
    "    epi_file = epi_fmaps[0][0]\n",
    "    epi_dir = PE_DIRECTION_MAPPING[epi_fmaps[0][1]]\n",
    "    altepi_file = epi_fmaps[1][0]\n",
    "    altepi_dir = PE_DIRECTION_MAPPING[epi_fmaps[1][1]]\n",
    "    \n",
    "    wf = pe.Workflow(name=\"topup_wf\")\n",
    "        \n",
    "    inputnode = pe.Node(\n",
    "        niu.IdentityInterface(fields=[\"epi_file\", \"altepi_file\"]),\n",
    "        name=\"inputnode\")    \n",
    "    inputnode.epi_file = epi_file\n",
    "    inputnode.altepi_file = altepi_file\n",
    "    \n",
    "    outputnode = pe.Node(\n",
    "        niu.IdentityInterface(fields=[\"out_fmap\"]),\n",
    "        name=\"outputnode\")\n",
    "    \n",
    "    list_merge = pe.Node(niu.Merge(numinputs=2), name=\"list_merge\")\n",
    "    \n",
    "    merge = pe.Node(fsl.Merge(dimension=\"t\"), name=\"mergeAPPA\")\n",
    "        \n",
    "    topup = pe.Node(fsl.TOPUP(), name=\"topup\")\n",
    "    topup.inputs.encoding_direction = [epi_dir, altepi_dir]\n",
    "    topup.inputs.readout_times = [0.05, 0.05]\n",
    "    \n",
    "    wf.connect(\n",
    "        [\n",
    "            (\n",
    "                inputnode,\n",
    "                list_merge,\n",
    "                [(\"epi_file\", \"in1\"), (\"altepi_file\", \"in2\")]\n",
    "            ),\n",
    "            (list_merge, merge, [(\"out\", \"in_files\")]),\n",
    "            (merge, topup, [(\"merged_file\", \"in_file\")]),\n",
    "            (topup, outputnode, [(\"out_field\", \"out_fmap\")]),\n",
    "        ]\n",
    "    )\n",
    "    \n",
    "    return wf"
   ]
  },
  {
   "cell_type": "code",
   "execution_count": 25,
   "metadata": {},
   "outputs": [
    {
     "name": "stdout",
     "output_type": "stream",
     "text": [
      "190708-19:55:05,845 nipype.workflow INFO:\n",
      "\t Workflow topup_wf settings: ['check', 'execution', 'logging', 'monitoring']\n",
      "190708-19:55:05,931 nipype.workflow INFO:\n",
      "\t Running serially.\n",
      "190708-19:55:05,933 nipype.workflow INFO:\n",
      "\t [Node] Setting-up \"topup_wf.list_merge\" in \"/Users/Michael/projects/pipelines/dmripreproc/notebooks/outputs/topup_wf/list_merge\".\n",
      "190708-19:55:05,943 nipype.workflow INFO:\n",
      "\t [Node] Running \"list_merge\" (\"nipype.interfaces.utility.base.Merge\")\n",
      "190708-19:55:06,71 nipype.workflow INFO:\n",
      "\t [Node] Finished \"topup_wf.list_merge\".\n",
      "190708-19:55:06,73 nipype.workflow INFO:\n",
      "\t [Node] Setting-up \"topup_wf.mergeAPPA\" in \"/Users/Michael/projects/pipelines/dmripreproc/notebooks/outputs/topup_wf/mergeAPPA\".\n",
      "190708-19:55:06,80 nipype.workflow WARNING:\n",
      "\t [Node] Error on \"topup_wf.mergeAPPA\" (/Users/Michael/projects/pipelines/dmripreproc/notebooks/outputs/topup_wf/mergeAPPA)\n",
      "190708-19:55:06,86 nipype.workflow ERROR:\n",
      "\t Node mergeAPPA failed to run on host Michaels-iMac.local.\n",
      "190708-19:55:06,209 nipype.workflow ERROR:\n",
      "\t Saving crash info to /Users/Michael/projects/pipelines/dmripreproc/notebooks/crash-20190708-195506-Michael-mergeAPPA-ce285b5c-427d-40a6-81d3-1f832935f05c.pklz\n",
      "Traceback (most recent call last):\n",
      "  File \"/Users/Michael/.pyenv/versions/dwi_venv/lib/python3.7/site-packages/nipype/pipeline/plugins/linear.py\", line 48, in run\n",
      "    node.run(updatehash=updatehash)\n",
      "  File \"/Users/Michael/.pyenv/versions/dwi_venv/lib/python3.7/site-packages/nipype/pipeline/engine/nodes.py\", line 472, in run\n",
      "    result = self._run_interface(execute=True)\n",
      "  File \"/Users/Michael/.pyenv/versions/dwi_venv/lib/python3.7/site-packages/nipype/pipeline/engine/nodes.py\", line 563, in _run_interface\n",
      "    return self._run_command(execute)\n",
      "  File \"/Users/Michael/.pyenv/versions/dwi_venv/lib/python3.7/site-packages/nipype/pipeline/engine/nodes.py\", line 631, in _run_command\n",
      "    cmd = self._interface.cmdline\n",
      "  File \"/Users/Michael/.pyenv/versions/dwi_venv/lib/python3.7/site-packages/nipype/interfaces/base/core.py\", line 674, in cmdline\n",
      "    allargs = [self._cmd_prefix + self.cmd] + self._parse_inputs()\n",
      "  File \"/Users/Michael/.pyenv/versions/dwi_venv/lib/python3.7/site-packages/nipype/interfaces/base/core.py\", line 916, in _parse_inputs\n",
      "    value = self._filename_from_source(name)\n",
      "  File \"/Users/Michael/.pyenv/versions/dwi_venv/lib/python3.7/site-packages/nipype/interfaces/base/core.py\", line 845, in _filename_from_source\n",
      "    source = source[0]\n",
      "IndexError: list index out of range\n",
      "\n",
      "190708-19:55:06,211 nipype.workflow INFO:\n",
      "\t ***********************************\n",
      "190708-19:55:06,212 nipype.workflow ERROR:\n",
      "\t could not run node: topup_wf.mergeAPPA\n",
      "190708-19:55:06,213 nipype.workflow INFO:\n",
      "\t crashfile: /Users/Michael/projects/pipelines/dmripreproc/notebooks/crash-20190708-195506-Michael-mergeAPPA-ce285b5c-427d-40a6-81d3-1f832935f05c.pklz\n",
      "190708-19:55:06,214 nipype.workflow INFO:\n",
      "\t ***********************************\n"
     ]
    },
    {
     "ename": "RuntimeError",
     "evalue": "Workflow did not execute cleanly. Check log for details",
     "output_type": "error",
     "traceback": [
      "\u001b[0;31m---------------------------------------------------------------\u001b[0m",
      "\u001b[0;31mRuntimeError\u001b[0m                  Traceback (most recent call last)",
      "\u001b[0;32m<ipython-input-25-74b30af2c8e2>\u001b[0m in \u001b[0;36m<module>\u001b[0;34m\u001b[0m\n\u001b[1;32m      1\u001b[0m \u001b[0mtopup_wf\u001b[0m \u001b[0;34m=\u001b[0m \u001b[0minit_topup_wf\u001b[0m\u001b[0;34m(\u001b[0m\u001b[0mepi_fmaps\u001b[0m\u001b[0;34m)\u001b[0m\u001b[0;34m\u001b[0m\u001b[0;34m\u001b[0m\u001b[0m\n\u001b[1;32m      2\u001b[0m \u001b[0mtopup_wf\u001b[0m\u001b[0;34m.\u001b[0m\u001b[0mbase_dir\u001b[0m \u001b[0;34m=\u001b[0m \u001b[0moutput_dir\u001b[0m\u001b[0;34m\u001b[0m\u001b[0;34m\u001b[0m\u001b[0m\n\u001b[0;32m----> 3\u001b[0;31m \u001b[0mtopup_wf\u001b[0m\u001b[0;34m.\u001b[0m\u001b[0mrun\u001b[0m\u001b[0;34m(\u001b[0m\u001b[0;34m)\u001b[0m\u001b[0;34m\u001b[0m\u001b[0;34m\u001b[0m\u001b[0m\n\u001b[0m",
      "\u001b[0;32m~/.pyenv/versions/dwi_venv/lib/python3.7/site-packages/nipype/pipeline/engine/workflows.py\u001b[0m in \u001b[0;36mrun\u001b[0;34m(self, plugin, plugin_args, updatehash)\u001b[0m\n\u001b[1;32m    597\u001b[0m         \u001b[0;32mif\u001b[0m \u001b[0mstr2bool\u001b[0m\u001b[0;34m(\u001b[0m\u001b[0mself\u001b[0m\u001b[0;34m.\u001b[0m\u001b[0mconfig\u001b[0m\u001b[0;34m[\u001b[0m\u001b[0;34m'execution'\u001b[0m\u001b[0;34m]\u001b[0m\u001b[0;34m[\u001b[0m\u001b[0;34m'create_report'\u001b[0m\u001b[0;34m]\u001b[0m\u001b[0;34m)\u001b[0m\u001b[0;34m:\u001b[0m\u001b[0;34m\u001b[0m\u001b[0;34m\u001b[0m\u001b[0m\n\u001b[1;32m    598\u001b[0m             \u001b[0mself\u001b[0m\u001b[0;34m.\u001b[0m\u001b[0m_write_report_info\u001b[0m\u001b[0;34m(\u001b[0m\u001b[0mself\u001b[0m\u001b[0;34m.\u001b[0m\u001b[0mbase_dir\u001b[0m\u001b[0;34m,\u001b[0m \u001b[0mself\u001b[0m\u001b[0;34m.\u001b[0m\u001b[0mname\u001b[0m\u001b[0;34m,\u001b[0m \u001b[0mexecgraph\u001b[0m\u001b[0;34m)\u001b[0m\u001b[0;34m\u001b[0m\u001b[0;34m\u001b[0m\u001b[0m\n\u001b[0;32m--> 599\u001b[0;31m         \u001b[0mrunner\u001b[0m\u001b[0;34m.\u001b[0m\u001b[0mrun\u001b[0m\u001b[0;34m(\u001b[0m\u001b[0mexecgraph\u001b[0m\u001b[0;34m,\u001b[0m \u001b[0mupdatehash\u001b[0m\u001b[0;34m=\u001b[0m\u001b[0mupdatehash\u001b[0m\u001b[0;34m,\u001b[0m \u001b[0mconfig\u001b[0m\u001b[0;34m=\u001b[0m\u001b[0mself\u001b[0m\u001b[0;34m.\u001b[0m\u001b[0mconfig\u001b[0m\u001b[0;34m)\u001b[0m\u001b[0;34m\u001b[0m\u001b[0;34m\u001b[0m\u001b[0m\n\u001b[0m\u001b[1;32m    600\u001b[0m         \u001b[0mdatestr\u001b[0m \u001b[0;34m=\u001b[0m \u001b[0mdatetime\u001b[0m\u001b[0;34m.\u001b[0m\u001b[0mutcnow\u001b[0m\u001b[0;34m(\u001b[0m\u001b[0;34m)\u001b[0m\u001b[0;34m.\u001b[0m\u001b[0mstrftime\u001b[0m\u001b[0;34m(\u001b[0m\u001b[0;34m'%Y%m%dT%H%M%S'\u001b[0m\u001b[0;34m)\u001b[0m\u001b[0;34m\u001b[0m\u001b[0;34m\u001b[0m\u001b[0m\n\u001b[1;32m    601\u001b[0m         \u001b[0;32mif\u001b[0m \u001b[0mstr2bool\u001b[0m\u001b[0;34m(\u001b[0m\u001b[0mself\u001b[0m\u001b[0;34m.\u001b[0m\u001b[0mconfig\u001b[0m\u001b[0;34m[\u001b[0m\u001b[0;34m'execution'\u001b[0m\u001b[0;34m]\u001b[0m\u001b[0;34m[\u001b[0m\u001b[0;34m'write_provenance'\u001b[0m\u001b[0;34m]\u001b[0m\u001b[0;34m)\u001b[0m\u001b[0;34m:\u001b[0m\u001b[0;34m\u001b[0m\u001b[0;34m\u001b[0m\u001b[0m\n",
      "\u001b[0;32m~/.pyenv/versions/dwi_venv/lib/python3.7/site-packages/nipype/pipeline/plugins/linear.py\u001b[0m in \u001b[0;36mrun\u001b[0;34m(self, graph, config, updatehash)\u001b[0m\n\u001b[1;32m     69\u001b[0m \u001b[0;34m\u001b[0m\u001b[0m\n\u001b[1;32m     70\u001b[0m         \u001b[0mos\u001b[0m\u001b[0;34m.\u001b[0m\u001b[0mchdir\u001b[0m\u001b[0;34m(\u001b[0m\u001b[0mold_wd\u001b[0m\u001b[0;34m)\u001b[0m  \u001b[0;31m# Return wherever we were before\u001b[0m\u001b[0;34m\u001b[0m\u001b[0;34m\u001b[0m\u001b[0m\n\u001b[0;32m---> 71\u001b[0;31m         \u001b[0mreport_nodes_not_run\u001b[0m\u001b[0;34m(\u001b[0m\u001b[0mnotrun\u001b[0m\u001b[0;34m)\u001b[0m\u001b[0;34m\u001b[0m\u001b[0;34m\u001b[0m\u001b[0m\n\u001b[0m",
      "\u001b[0;32m~/.pyenv/versions/dwi_venv/lib/python3.7/site-packages/nipype/pipeline/plugins/tools.py\u001b[0m in \u001b[0;36mreport_nodes_not_run\u001b[0;34m(notrun)\u001b[0m\n\u001b[1;32m     80\u001b[0m                 \u001b[0mlogger\u001b[0m\u001b[0;34m.\u001b[0m\u001b[0mdebug\u001b[0m\u001b[0;34m(\u001b[0m\u001b[0msubnode\u001b[0m\u001b[0;34m.\u001b[0m\u001b[0m_id\u001b[0m\u001b[0;34m)\u001b[0m\u001b[0;34m\u001b[0m\u001b[0;34m\u001b[0m\u001b[0m\n\u001b[1;32m     81\u001b[0m         \u001b[0mlogger\u001b[0m\u001b[0;34m.\u001b[0m\u001b[0minfo\u001b[0m\u001b[0;34m(\u001b[0m\u001b[0;34m\"***********************************\"\u001b[0m\u001b[0;34m)\u001b[0m\u001b[0;34m\u001b[0m\u001b[0;34m\u001b[0m\u001b[0m\n\u001b[0;32m---> 82\u001b[0;31m         raise RuntimeError(('Workflow did not execute cleanly. '\n\u001b[0m\u001b[1;32m     83\u001b[0m                             'Check log for details'))\n\u001b[1;32m     84\u001b[0m \u001b[0;34m\u001b[0m\u001b[0m\n",
      "\u001b[0;31mRuntimeError\u001b[0m: Workflow did not execute cleanly. Check log for details"
     ]
    }
   ],
   "source": [
    "topup_wf = init_topup_wf(epi_fmaps)\n",
    "topup_wf.base_dir = output_dir\n",
    "topup_wf.run()"
   ]
  },
  {
   "cell_type": "markdown",
   "metadata": {},
   "source": [
    "if using single dwi image, both dwi images or synthetic b0, must register both images before fslmerge"
   ]
  },
  {
   "cell_type": "markdown",
   "metadata": {},
   "source": [
    "### Topup using dwi image"
   ]
  },
  {
   "cell_type": "markdown",
   "metadata": {},
   "source": [
    "### Topup using synthetic b0"
   ]
  },
  {
   "cell_type": "markdown",
   "metadata": {},
   "source": [
    "### Phasediff"
   ]
  },
  {
   "cell_type": "code",
   "execution_count": 116,
   "metadata": {},
   "outputs": [],
   "source": [
    "subject_id = \"CMP0178\"\n",
    "dwi_files = layout.get(subject=subject_id, datatype=\"dwi\", suffix=\"dwi\", extensions=[\".nii\", \".nii.gz\"], return_type=\"filename\")"
   ]
  },
  {
   "cell_type": "code",
   "execution_count": 117,
   "metadata": {},
   "outputs": [],
   "source": [
    "for dwi_file in dwi_files:\n",
    "    fmaps = get_fmaps(dwi_file)"
   ]
  },
  {
   "cell_type": "code",
   "execution_count": 118,
   "metadata": {},
   "outputs": [],
   "source": [
    "fmap = fmaps[0]\n",
    "if fmap[\"suffix\"] == \"phasediff\":\n",
    "    phasediff_file = fmap[\"phasediff\"]\n",
    "    phasediff_metadata = fmap[\"metadata\"]"
   ]
  },
  {
   "cell_type": "markdown",
   "metadata": {},
   "source": [
    "### Phase"
   ]
  },
  {
   "cell_type": "code",
   "execution_count": 119,
   "metadata": {},
   "outputs": [],
   "source": [
    "subject_id = \"ZHP0130\"\n",
    "dwi_files = layout.get(subject=subject_id, datatype=\"dwi\", suffix=\"dwi\", extensions=[\".nii\", \".nii.gz\"], return_type=\"filename\")"
   ]
  },
  {
   "cell_type": "code",
   "execution_count": 120,
   "metadata": {},
   "outputs": [],
   "source": [
    "for dwi_file in dwi_files:\n",
    "    fmaps = get_fmaps(dwi_file)"
   ]
  },
  {
   "cell_type": "code",
   "execution_count": 105,
   "metadata": {},
   "outputs": [
    {
     "name": "stdout",
     "output_type": "stream",
     "text": [
      "{'phase1': {'AcquisitionMatrixPE': 64, 'AcquisitionNumber': 1, 'AcquisitionTime': '06:05:0.000000', 'BaseResolution': 64, 'BodyPartExamined': 'BRAIN', 'ConsistencyInfo': 'N4_VE11B_LATEST_20150530', 'ConversionSoftware': 'dcm2niix', 'ConversionSoftwareVersion': 'v1.0.20180622 (JP2:OpenJPEG) (JP-LS:CharLS) GCC5.5.0', 'DeviceSerialNumber': '66106', 'DwellTime': 1.61e-05, 'EchoTime': 0.0065, 'FlipAngle': 60, 'ImageOrientationPatientDICOM': [0.998672, 0.040619, 0.0316926, -0.0416821, 0.998565, 0.0336378], 'ImageType': ['ORIGINAL', 'PRIMARY', 'P', 'ND'], 'InPlanePhaseEncodingDirectionDICOM': 'COL', 'InstitutionAddress': 'Community_Drive_300_Manhasset_NYC_US_11030', 'InstitutionalDepartmentName': 'RADIOLOGY', 'IntendedFor': ['ses-01/dwi/sub-ZHP0130_ses-01_acq-ZHP601000_run-01_dwi.nii.gz'], 'MRAcquisitionType': '2D', 'MagneticFieldStrength': 3, 'Manufacturer': 'Siemens', 'ManufacturersModelName': 'Prisma', 'Modality': 'MR', 'PartialFourier': 1, 'PatientPosition': 'HFS', 'PercentPhaseFOV': 100, 'PhaseEncodingDirection': 'j-', 'PhaseEncodingSteps': 64, 'PhaseResolution': 1, 'PixelBandwidth': 485, 'ProcedureStepDescription': 'MR_BRAIN', 'ProtocolName': 'field_map_TE=6.5ms', 'PulseSequenceDetails': '%SiemensSeq%_gre', 'ReceiveCoilActiveElements': 'HC1-7', 'ReceiveCoilName': 'HeadNeck_64', 'ReconMatrixPE': 64, 'RepetitionTime': 1.06, 'SAR': 0.122978, 'ScanOptions': 'FS', 'ScanningSequence': 'GR', 'SequenceName': '_fl2d1', 'SequenceVariant': 'SP', 'SeriesDescription': 'field_map_TE=6.5ms', 'SeriesNumber': 17, 'ShimSetting': [-1322, -10948, 554, 258, -169, -237, 5, -7], 'SliceThickness': 4, 'SoftwareVersions': 'syngo_MR_E11', 'SpacingBetweenSlices': 4, 'StationName': 'MHMRSIEM3T', 'TxRefAmp': 286.233}, 'phase2': {'AcquisitionMatrixPE': 64, 'AcquisitionNumber': 1, 'AcquisitionTime': '06:05:0.000000', 'BaseResolution': 64, 'BodyPartExamined': 'BRAIN', 'ConsistencyInfo': 'N4_VE11B_LATEST_20150530', 'ConversionSoftware': 'dcm2niix', 'ConversionSoftwareVersion': 'v1.0.20180622 (JP2:OpenJPEG) (JP-LS:CharLS) GCC5.5.0', 'DeviceSerialNumber': '66106', 'DwellTime': 1.61e-05, 'EchoTime': 0.0085, 'FlipAngle': 60, 'ImageOrientationPatientDICOM': [0.998672, 0.040619, 0.0316926, -0.0416821, 0.998565, 0.0336378], 'ImageType': ['ORIGINAL', 'PRIMARY', 'P', 'ND'], 'InPlanePhaseEncodingDirectionDICOM': 'COL', 'InstitutionAddress': 'Community_Drive_300_Manhasset_NYC_US_11030', 'InstitutionalDepartmentName': 'RADIOLOGY', 'IntendedFor': ['ses-01/dwi/sub-ZHP0130_ses-01_acq-ZHP601000_run-01_dwi.nii.gz'], 'MRAcquisitionType': '2D', 'MagneticFieldStrength': 3, 'Manufacturer': 'Siemens', 'ManufacturersModelName': 'Prisma', 'Modality': 'MR', 'PartialFourier': 1, 'PatientPosition': 'HFS', 'PercentPhaseFOV': 100, 'PhaseEncodingDirection': 'j-', 'PhaseEncodingSteps': 64, 'PhaseResolution': 1, 'PixelBandwidth': 485, 'ProcedureStepDescription': 'MR_BRAIN', 'ProtocolName': 'field_map_TE=8.5ms', 'PulseSequenceDetails': '%SiemensSeq%_gre', 'ReceiveCoilActiveElements': 'HC1-7', 'ReceiveCoilName': 'HeadNeck_64', 'ReconMatrixPE': 64, 'RepetitionTime': 1.06, 'SAR': 0.122978, 'ScanOptions': 'FS', 'ScanningSequence': 'GR', 'SequenceName': '_fl2d1', 'SequenceVariant': 'SP', 'SeriesDescription': 'field_map_TE=8.5ms', 'SeriesNumber': 19, 'ShimSetting': [-1322, -10948, 554, 258, -169, -237, 5, -7], 'SliceThickness': 4, 'SoftwareVersions': 'syngo_MR_E11', 'SpacingBetweenSlices': 4, 'StationName': 'MHMRSIEM3T', 'TxRefAmp': 286.233}}\n"
     ]
    }
   ],
   "source": [
    "fmap = fmaps[0]\n",
    "if fmap[\"suffix\"] == \"phase\":\n",
    "    phase1_file = fmap"
   ]
  },
  {
   "cell_type": "markdown",
   "metadata": {},
   "source": [
    "### Fieldmap"
   ]
  },
  {
   "cell_type": "code",
   "execution_count": 21,
   "metadata": {},
   "outputs": [],
   "source": [
    "def to_rads(in_file, out_file):\n",
    "    from math import pi\n",
    "    import nibabel as nib\n",
    "    \n",
    "    fmap_img = nib.load(in_file)\n",
    "    fmap_data = fmap_img.get_data()\n",
    "    \n",
    "    fmap_range = max(abs(fmap_data.min()), fmap_data.max())\n",
    "    \n",
    "    fmap_data = fmap_data * (pi / fmap_range)\n",
    "    \n",
    "    out_img = nib.Nifti1Image(fmap_data, fmap_img.affine, fmap_img.header)\n",
    "    out_img.set_data_dtype('float32')\n",
    "    out_img.to_filename(out_file)\n",
    "    \n",
    "    return out_file, fmap_range"
   ]
  },
  {
   "cell_type": "code",
   "execution_count": 22,
   "metadata": {},
   "outputs": [],
   "source": [
    "def to_hz(in_file, range_hz, out_file):\n",
    "    from math import pi\n",
    "    import nibabel as nib\n",
    "    \n",
    "    fmap_img = nib.load(in_file)\n",
    "    fmap_data = fmap_img.get_data()\n",
    "    \n",
    "    fmap_data = fmap_data * (range_hz / pi)\n",
    "    out_img = nib.Nifti1Image(fmap_data, fmap_img.affine, fmap_img.header)\n",
    "    out_img.set_data_dtype('float32')\n",
    "    out_img.to_filename(out_file)\n",
    "    \n",
    "    return out_file"
   ]
  },
  {
   "cell_type": "code",
   "execution_count": 36,
   "metadata": {},
   "outputs": [],
   "source": [
    "fmap_file = \"{}/sub-CMH0171/ses-01/fmap/sub-CMH0171_ses-01_run-01_fieldmap.nii.gz\".format(base_dir)\n",
    "\n",
    "out_file, fmap_range = to_rads(fmap_file, fmap_file.replace('.nii.gz', '_rad.nii.gz'))\n",
    "\n",
    "new_out_file = to_hz(out_file, fmap_range, out_file.replace('_rad.nii.gz', '_hz.nii.gz'))"
   ]
  },
  {
   "cell_type": "code",
   "execution_count": 37,
   "metadata": {},
   "outputs": [
    {
     "name": "stdout",
     "output_type": "stream",
     "text": [
      "2048.7444\n"
     ]
    }
   ],
   "source": [
    "fmap_img = nib.load(fmap_file)\n",
    "fmap_data = fmap_img.get_data()\n",
    "\n",
    "fmap_range = max(abs(fmap_data.min()), fmap_data.max())\n",
    "print(fmap_range)"
   ]
  },
  {
   "cell_type": "code",
   "execution_count": 38,
   "metadata": {},
   "outputs": [
    {
     "name": "stdout",
     "output_type": "stream",
     "text": [
      "3.1415927\n"
     ]
    }
   ],
   "source": [
    "fmap_img = nib.load(out_file)\n",
    "fmap_data = fmap_img.get_data()\n",
    "\n",
    "fmap_range = max(abs(fmap_data.min()), fmap_data.max())\n",
    "print(fmap_range)"
   ]
  },
  {
   "cell_type": "code",
   "execution_count": 39,
   "metadata": {},
   "outputs": [
    {
     "name": "stdout",
     "output_type": "stream",
     "text": [
      "2048.7446\n"
     ]
    }
   ],
   "source": [
    "fmap_img = nib.load(new_out_file)\n",
    "fmap_data = fmap_img.get_data()\n",
    "\n",
    "fmap_range = max(abs(fmap_data.min()), fmap_data.max())\n",
    "print(fmap_range)"
   ]
  },
  {
   "cell_type": "code",
   "execution_count": 27,
   "metadata": {},
   "outputs": [
    {
     "data": {
      "text/plain": [
       "<nilearn.plotting.displays.OrthoSlicer at 0x7f1ca9b05668>"
      ]
     },
     "execution_count": 27,
     "metadata": {},
     "output_type": "execute_result"
    },
    {
     "data": {
      "image/png": "[encoded data removed]",
      "text/plain": [
       "<Figure size 475.2x187.2 with 4 Axes>"
      ]
     },
     "metadata": {},
     "output_type": "display_data"
    }
   ],
   "source": [
    "plot_anat(fmap_file)"
   ]
  },
  {
   "cell_type": "code",
   "execution_count": 28,
   "metadata": {},
   "outputs": [
    {
     "data": {
      "text/plain": [
       "<nilearn.plotting.displays.OrthoSlicer at 0x7f1ca9ac7438>"
      ]
     },
     "execution_count": 28,
     "metadata": {},
     "output_type": "execute_result"
    },
    {
     "data": {
      "image/png": "[encoded data removed]",
      "text/plain": [
       "<Figure size 475.2x187.2 with 4 Axes>"
      ]
     },
     "metadata": {},
     "output_type": "display_data"
    }
   ],
   "source": [
    "plot_anat(out_file)"
   ]
  },
  {
   "cell_type": "code",
   "execution_count": 29,
   "metadata": {},
   "outputs": [
    {
     "data": {
      "text/plain": [
       "<nilearn.plotting.displays.OrthoSlicer at 0x7f1ca9a6d1d0>"
      ]
     },
     "execution_count": 29,
     "metadata": {},
     "output_type": "execute_result"
    },
    {
     "data": {
      "image/png": "[encoded data removed]",
      "text/plain": [
       "<Figure size 475.2x187.2 with 4 Axes>"
      ]
     },
     "metadata": {},
     "output_type": "display_data"
    }
   ],
   "source": [
    "plot_anat(new_out_file)"
   ]
  },
  {
   "cell_type": "code",
   "execution_count": null,
   "metadata": {},
   "outputs": [],
   "source": []
  }
 ],
 "metadata": {
  "kernelspec": {
   "display_name": "dwi_venv",
   "language": "python",
   "name": "dwi_venv"
  },
  "language_info": {
   "codemirror_mode": {
    "name": "ipython",
    "version": 3
   },
   "file_extension": ".py",
   "mimetype": "text/x-python",
   "name": "python",
   "nbconvert_exporter": "python",
   "pygments_lexer": "ipython3",
   "version": "3.7.1"
  }
 },
 "nbformat": 4,
 "nbformat_minor": 2
}

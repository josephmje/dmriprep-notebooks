{
 "cells": [
  {
   "cell_type": "code",
   "execution_count": 1,
   "metadata": {},
   "outputs": [],
   "source": [
    "import os\n",
    "\n",
    "from bids import BIDSLayout\n",
    "from nipype.pipeline import engine as pe\n",
    "from nipype.interfaces import mrtrix3, utility as niu"
   ]
  },
  {
   "cell_type": "code",
   "execution_count": 8,
   "metadata": {},
   "outputs": [],
   "source": [
    "def init_mrtrix_wf():\n",
    "    wf = pe.Workflow(name=\"mrtrix_wf\")\n",
    "    \n",
    "    inputnode = pe.Node(niu.IdentityInterface(fields=[\"dwi_file\", \"bvec_file\", \"bval_file\"]), name=\"inputnode\")\n",
    "    \n",
    "    outputnode = pe.Node(niu.IdentityInterface(fields=[\"out_file\"]), name=\"outputnode\")\n",
    "    \n",
    "    mrconvert = pe.Node(mrtrix3.MRConvert(), name=\"mrconvert\")\n",
    "    \n",
    "    denoise = pe.Node(mrtrix3.DWIDenoise(), name=\"denoise\")\n",
    "    \n",
    "    unring = pe.Node(mrtrix3.MRDeGibbs(), name=\"unring\")\n",
    "    \n",
    "    resize = pe.Node(mrtrix3.MRResize(voxel_size=(1,1,1)), name=\"resize\")\n",
    "    \n",
    "    biascorr = pe.Node(mrtrix3.DWIBiasCorrect(use_ants=True), name=\"biascorr\")\n",
    "    \n",
    "    wf.connect([\n",
    "        (inputnode, mrconvert, [(\"dwi_file\", \"in_file\"),\n",
    "                                (\"bvec_file\", \"in_bvec\"),\n",
    "                                (\"bval_file\", \"in_bval\")]),\n",
    "        (mrconvert, denoise, [(\"out_file\", \"in_file\")]),\n",
    "        (denoise, unring, [(\"out_file\", \"in_file\")]),\n",
    "        (unring, resize, [(\"out_file\", \"in_file\")]),\n",
    "        (resize, biascorr, [(\"out_file\", \"in_file\")]),\n",
    "        (inputnode, biascorr, [(\"bvec_file\", \"in_bvec\"),\n",
    "                               (\"bval_file\", \"in_bval\")]),\n",
    "        (biascorr, outputnode, [(\"out_file\", \"out_file\")])\n",
    "        ])\n",
    "    \n",
    "    return wf"
   ]
  },
  {
   "cell_type": "code",
   "execution_count": 9,
   "metadata": {},
   "outputs": [],
   "source": [
    "data_dir = os.path.abspath(\"../data\")\n",
    "layout = BIDSLayout(data_dir)"
   ]
  },
  {
   "cell_type": "code",
   "execution_count": 10,
   "metadata": {},
   "outputs": [],
   "source": [
    "dwi_files = layout.get(datatype=\"dwi\", extension=[\"nii.gz\", \"nii\"], return_type=\"file\")"
   ]
  },
  {
   "cell_type": "code",
   "execution_count": 11,
   "metadata": {},
   "outputs": [],
   "source": [
    "dwi_file = dwi_files[0]\n",
    "bvec_file = layout.get_bvec(dwi_file)\n",
    "bval_file = layout.get_bval(dwi_file)"
   ]
  },
  {
   "cell_type": "code",
   "execution_count": 12,
   "metadata": {},
   "outputs": [
    {
     "name": "stdout",
     "output_type": "stream",
     "text": [
      "190809-13:04:58,895 nipype.workflow INFO:\n",
      "\t Generated workflow graph: /mnt/tigrlab/projects/mjoseph/pipelines/dmriprep-notebooks/notebooks/mrtrix_wf/graph.png (graph2use=colored, simple_form=True).\n",
      "190809-13:04:59,178 nipype.workflow INFO:\n",
      "\t Workflow mrtrix_wf settings: ['check', 'execution', 'logging', 'monitoring']\n",
      "190809-13:04:59,237 nipype.workflow INFO:\n",
      "\t Running serially.\n",
      "190809-13:04:59,240 nipype.workflow INFO:\n",
      "\t [Node] Setting-up \"mrtrix_wf.mrconvert\" in \"/mnt/tigrlab/projects/mjoseph/pipelines/dmriprep-notebooks/notebooks/mrtrix_wf/mrconvert\".\n",
      "190809-13:04:59,309 nipype.workflow INFO:\n",
      "\t [Node] Running \"mrconvert\" (\"nipype.interfaces.mrtrix3.utils.MRConvert\"), a CommandLine Interface with command:\n",
      "mrconvert -fslgrad /mnt/tigrlab/projects/mjoseph/pipelines/dmriprep-notebooks/data/sub-CMH0171/ses-01/dwi/sub-CMH0171_ses-01_acq-singleshell60dir_dwi.bvec /mnt/tigrlab/projects/mjoseph/pipelines/dmriprep-notebooks/data/sub-CMH0171/ses-01/dwi/sub-CMH0171_ses-01_acq-singleshell60dir_dwi.bval /mnt/tigrlab/projects/mjoseph/pipelines/dmriprep-notebooks/data/sub-CMH0171/ses-01/dwi/sub-CMH0171_ses-01_acq-singleshell60dir_dwi.nii.gz dwi.mif\n",
      "190809-13:05:00,819 nipype.interface INFO:\n",
      "mrconvert: [100%] uncompressing image \"/mnt/tigrlab/projects/mjoseph/pipelines/dmriprep-notebooks/data/sub-CMH0171/ses-01/dwi/sub-CMH0171_ses-01_acq-singleshell60dir_dwi.nii.gz\"\u001b[0K\u001b[0K\n",
      "190809-13:05:01,111 nipype.interface INFO:\n",
      "mrconvert: [100%] copying from \"/mnt/tigrl...singleshell60dir_dwi.nii.gz\" to \"dwi.mif\"\u001b[0K\u001b[0K\n",
      "190809-13:05:02,697 nipype.workflow INFO:\n",
      "\t [Node] Finished \"mrtrix_wf.mrconvert\".\n",
      "190809-13:05:02,700 nipype.workflow INFO:\n",
      "\t [Node] Setting-up \"mrtrix_wf.denoise\" in \"/mnt/tigrlab/projects/mjoseph/pipelines/dmriprep-notebooks/notebooks/mrtrix_wf/denoise\".\n",
      "190809-13:05:02,757 nipype.workflow INFO:\n",
      "\t [Node] Running \"denoise\" (\"nipype.interfaces.mrtrix3.preprocess.DWIDenoise\"), a CommandLine Interface with command:\n",
      "dwidenoise -noise dwi_noise.mif /mnt/tigrlab/projects/mjoseph/pipelines/dmriprep-notebooks/notebooks/mrtrix_wf/mrconvert/dwi.mif dwi_denoised.mif\n",
      "190809-13:05:05,402 nipype.interface INFO:\n",
      "dwidenoise: [100%] preloading data for \"/mnt/tigrlab/projects/mjoseph/pipelines/dmriprep-notebooks/notebooks/mrtrix_wf/mrconvert/dwi.mif\"\u001b[0K\u001b[0K\n",
      "190809-13:05:35,225 nipype.interface INFO:\n",
      "dwidenoise: [100%] running MP-PCA denoising\u001b[0K\u001b[0K\n",
      "190809-13:05:40,442 nipype.workflow INFO:\n",
      "\t [Node] Finished \"mrtrix_wf.denoise\".\n",
      "190809-13:05:40,444 nipype.workflow INFO:\n",
      "\t [Node] Setting-up \"mrtrix_wf.unring\" in \"/mnt/tigrlab/projects/mjoseph/pipelines/dmriprep-notebooks/notebooks/mrtrix_wf/unring\".\n",
      "190809-13:05:40,510 nipype.workflow INFO:\n",
      "\t [Node] Running \"unring\" (\"nipype.interfaces.mrtrix3.preprocess.MRDeGibbs\"), a CommandLine Interface with command:\n",
      "mrdegibbs -axes 0,1 -maxW 3 -minW 1 -nshifts 20 /mnt/tigrlab/projects/mjoseph/pipelines/dmriprep-notebooks/notebooks/mrtrix_wf/denoise/dwi_denoised.mif dwi_denoised_unr.mif\n",
      "190809-13:05:52,846 nipype.interface INFO:\n",
      "mrdegibbs: [100%] performing Gibbs ringing removal\u001b[0K\u001b[0K\n",
      "190809-13:05:55,667 nipype.workflow INFO:\n",
      "\t [Node] Finished \"mrtrix_wf.unring\".\n",
      "190809-13:05:55,669 nipype.workflow INFO:\n",
      "\t [Node] Setting-up \"mrtrix_wf.resize\" in \"/mnt/tigrlab/projects/mjoseph/pipelines/dmriprep-notebooks/notebooks/mrtrix_wf/resize\".\n",
      "190809-13:05:55,755 nipype.workflow INFO:\n",
      "\t [Node] Running \"resize\" (\"nipype.interfaces.mrtrix3.utils.MRResize\"), a CommandLine Interface with command:\n",
      "mrresize -interp cubic -voxel 1,1,1 /mnt/tigrlab/projects/mjoseph/pipelines/dmriprep-notebooks/notebooks/mrtrix_wf/unring/dwi_denoised_unr.mif dwi_denoised_unr_resized.mif\n",
      "190809-13:06:11,238 nipype.interface INFO:\n",
      "mrresize: [100%] reslicing \"/mnt/tigrlab/projects/mjoseph/pipelines/dmriprep-notebooks/notebooks/mrtrix_wf/unring/dwi_denoised_unr.mif\"\u001b[0K\u001b[0K\n",
      "190809-13:06:38,736 nipype.workflow INFO:\n",
      "\t [Node] Finished \"mrtrix_wf.resize\".\n",
      "190809-13:06:38,737 nipype.workflow INFO:\n",
      "\t [Node] Setting-up \"mrtrix_wf.biascorr\" in \"/mnt/tigrlab/projects/mjoseph/pipelines/dmriprep-notebooks/notebooks/mrtrix_wf/biascorr\".\n",
      "190809-13:06:38,810 nipype.workflow INFO:\n",
      "\t [Node] Running \"biascorr\" (\"nipype.interfaces.mrtrix3.preprocess.DWIBiasCorrect\"), a CommandLine Interface with command:\n",
      "dwibiascorrect -fslgrad /mnt/tigrlab/projects/mjoseph/pipelines/dmriprep-notebooks/data/sub-CMH0171/ses-01/dwi/sub-CMH0171_ses-01_acq-singleshell60dir_dwi.bvec /mnt/tigrlab/projects/mjoseph/pipelines/dmriprep-notebooks/data/sub-CMH0171/ses-01/dwi/sub-CMH0171_ses-01_acq-singleshell60dir_dwi.bval -ants /mnt/tigrlab/projects/mjoseph/pipelines/dmriprep-notebooks/notebooks/mrtrix_wf/resize/dwi_denoised_unr_resized.mif dwi_denoised_unr_resized_biascorr.mif\n",
      "190809-13:06:39,637 nipype.interface INFO:\n",
      "\t stderr 2019-08-09T13:06:39.637044:dwibiascorrect: \u001b[03;32m\u001b[0m\n",
      "190809-13:06:39,644 nipype.interface INFO:\n",
      "\t stderr 2019-08-09T13:06:39.637044:dwibiascorrect: \u001b[03;32mNote that this script makes use of commands / algorithms that have relevant articles for citation; INCLUDING FROM EXTERNAL SOFTWARE PACKAGES. Please consult the help page (-help option) for more information.\u001b[0m\n",
      "190809-13:06:39,645 nipype.interface INFO:\n",
      "\t stderr 2019-08-09T13:06:39.637044:dwibiascorrect: \u001b[03;32m\u001b[0m\n",
      "190809-13:06:39,646 nipype.interface INFO:\n",
      "\t stderr 2019-08-09T13:06:39.637044:dwibiascorrect: \u001b[03;32mGenerated temporary directory: /mnt/tigrlab/projects/mjoseph/pipelines/dmriprep-notebooks/notebooks/mrtrix_wf/biascorr/dwibiascorrect-tmp-P1JYK5/\u001b[0m\n",
      "190809-13:06:39,647 nipype.interface INFO:\n",
      "\t stderr 2019-08-09T13:06:39.637044:\u001b[03;36mCommand:\u001b[0m  mrconvert /mnt/tigrlab/projects/mjoseph/pipelines/dmriprep-notebooks/notebooks/mrtrix_wf/resize/dwi_denoised_unr_resized.mif /mnt/tigrlab/projects/mjoseph/pipelines/dmriprep-notebooks/notebooks/mrtrix_wf/biascorr/dwibiascorrect-tmp-P1JYK5/in.mif -fslgrad /mnt/tigrlab/projects/mjoseph/pipelines/dmriprep-notebooks/data/sub-CMH0171/ses-01/dwi/sub-CMH0171_ses-01_acq-singleshell60dir_dwi.bvec /mnt/tigrlab/projects/mjoseph/pipelines/dmriprep-notebooks/data/sub-CMH0171/ses-01/dwi/sub-CMH0171_ses-01_acq-singleshell60dir_dwi.bval\n",
      "190809-13:07:32,334 nipype.interface INFO:\n",
      "\t stderr 2019-08-09T13:07:32.334631:dwibiascorrect: \u001b[03;32mChanging to temporary directory (/mnt/tigrlab/projects/mjoseph/pipelines/dmriprep-notebooks/notebooks/mrtrix_wf/biascorr/dwibiascorrect-tmp-P1JYK5/)\u001b[0m\n",
      "190809-13:07:32,336 nipype.interface INFO:\n",
      "\t stderr 2019-08-09T13:07:32.334631:\u001b[03;36mCommand:\u001b[0m  dwi2mask in.mif mask.mif\n",
      "190809-13:08:37,821 nipype.interface INFO:\n",
      "\t stderr 2019-08-09T13:08:37.821902:\u001b[03;36mCommand:\u001b[0m  dwiextract in.mif - -bzero | mrmath - mean mean_bzero.mif -axis 3\n",
      "190809-13:08:49,124 nipype.interface INFO:\n",
      "\t stderr 2019-08-09T13:08:49.124817:\u001b[03;36mCommand:\u001b[0m  mrconvert mean_bzero.mif mean_bzero.nii -stride +1,+2,+3\n",
      "190809-13:08:49,878 nipype.interface INFO:\n",
      "\t stderr 2019-08-09T13:08:49.878066:\u001b[03;36mCommand:\u001b[0m  mrconvert mask.mif mask.nii -stride +1,+2,+3\n",
      "190809-13:08:50,69 nipype.interface INFO:\n",
      "\t stderr 2019-08-09T13:08:50.069837:\u001b[03;36mCommand:\u001b[0m  N4BiasFieldCorrection -d 3 -i mean_bzero.nii -w mask.nii -o [corrected.nii,bias.nii] -b [150,3] -c [1000x1000,0.0]\n",
      "190809-13:10:57,318 nipype.interface INFO:\n",
      "\t stderr 2019-08-09T13:10:57.318245:\u001b[03;36mCommand:\u001b[0m  mrcalc in.mif bias.nii -div result.mif\n",
      "190809-13:11:23,945 nipype.interface INFO:\n",
      "\t stderr 2019-08-09T13:11:23.944848:\u001b[03;36mCommand:\u001b[0m  mrconvert result.mif /mnt/tigrlab/projects/mjoseph/pipelines/dmriprep-notebooks/notebooks/mrtrix_wf/biascorr/dwi_denoised_unr_resized_biascorr.mif\n",
      "190809-13:12:08,636 nipype.interface INFO:\n",
      "\t stderr 2019-08-09T13:12:08.636060:dwibiascorrect: \u001b[03;32mChanging back to original directory (/mnt/tigrlab/projects/mjoseph/pipelines/dmriprep-notebooks/notebooks/mrtrix_wf/biascorr)\u001b[0m\n",
      "190809-13:12:08,638 nipype.interface INFO:\n",
      "\t stderr 2019-08-09T13:12:08.636060:dwibiascorrect: \u001b[03;32mDeleting temporary directory /mnt/tigrlab/projects/mjoseph/pipelines/dmriprep-notebooks/notebooks/mrtrix_wf/biascorr/dwibiascorrect-tmp-P1JYK5/\u001b[0m\n",
      "190809-13:12:08,795 nipype.workflow INFO:\n",
      "\t [Node] Finished \"mrtrix_wf.biascorr\".\n"
     ]
    },
    {
     "data": {
      "text/plain": [
       "<networkx.classes.digraph.DiGraph at 0x7f9aeba9c4e0>"
      ]
     },
     "execution_count": 12,
     "metadata": {},
     "output_type": "execute_result"
    }
   ],
   "source": [
    "test_wf = init_mrtrix_wf()\n",
    "test_wf.base_dir = os.getcwd()\n",
    "\n",
    "inputspec = test_wf.get_node(\"inputnode\")\n",
    "inputspec.inputs.dwi_file = dwi_file\n",
    "inputspec.inputs.bvec_file = bvec_file\n",
    "inputspec.inputs.bval_file = bval_file\n",
    "\n",
    "test_wf.write_graph(graph2use=\"colored\")\n",
    "test_wf.config[\"execution\"][\"remove_unnecessary_outputs\"] = False\n",
    "test_wf.config[\"execution\"][\"keep_inputs\"] = True\n",
    "\n",
    "test_wf.run()"
   ]
  },
  {
   "cell_type": "code",
   "execution_count": null,
   "metadata": {},
   "outputs": [],
   "source": []
  }
 ],
 "metadata": {
  "kernelspec": {
   "display_name": "dwi_venv",
   "language": "python",
   "name": "dwi_venv"
  },
  "language_info": {
   "codemirror_mode": {
    "name": "ipython",
    "version": 3
   },
   "file_extension": ".py",
   "mimetype": "text/x-python",
   "name": "python",
   "nbconvert_exporter": "python",
   "pygments_lexer": "ipython3",
   "version": "3.7.3"
  }
 },
 "nbformat": 4,
 "nbformat_minor": 2
}

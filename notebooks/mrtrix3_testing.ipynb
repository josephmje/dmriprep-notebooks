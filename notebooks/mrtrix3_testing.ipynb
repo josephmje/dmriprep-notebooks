{
 "cells": [
  {
   "cell_type": "code",
   "execution_count": null,
   "metadata": {},
   "outputs": [],
   "source": [
    "import os\n",
    "\n",
    "from bids import BIDSLayout\n",
    "from nipype.pipeline import engine as pe\n",
    "from nipype.interfaces import mrtrix3, utility as niu"
   ]
  },
  {
   "cell_type": "code",
   "execution_count": null,
   "metadata": {},
   "outputs": [],
   "source": [
    "def init_mrtrix_wf():\n",
    "    wf = pe.Workflow(name=\"mrtrix_wf\")\n",
    "    \n",
    "    inputnode = pe.Node(niu.IdentityInterface(fields=[\"dwi_file\", \"bvec_file\", \"bval_file\"]), name=\"inputnode\")\n",
    "    \n",
    "    outputnode = pe.Node(niu.IdentityInterface(fields=[\"out_file\"]), name=\"outputnode\")\n",
    "    \n",
    "    denoise = pe.Node(mrtrix3.DWIDenoise(), name=\"denoise\")\n",
    "    \n",
    "    unring = pe.Node(mrtrix3.MRDeGibbs(), name=\"unring\")\n",
    "    \n",
    "    biascorr = pe.Node(mrtrix3.DWIBiasCorrect(use_fsl=True), name=\"biascorr\")\n",
    "    \n",
    "    wf.connect([(inputnode, denoise, [(\"dwi_file\", \"in_file\")]),\n",
    "                (denoise, unring, [(\"out_file\", \"in_file\")]),\n",
    "                (unring, biascorr, [(\"out_file\", \"in_file\")]),\n",
    "                (inputnode, biascorr, [(\"bvec_file\", \"in_bvec\"),\n",
    "                                       (\"bval_file\", \"in_bval\")]),\n",
    "                (biascorr, outputnode, [(\"out_file\", \"out_file\")])\n",
    "               ])\n",
    "    \n",
    "    return wf"
   ]
  },
  {
   "cell_type": "code",
   "execution_count": null,
   "metadata": {},
   "outputs": [],
   "source": [
    "data_dir = os.path.abspath(\"../data\")\n",
    "layout = BIDSLayout(data_dir)"
   ]
  },
  {
   "cell_type": "code",
   "execution_count": null,
   "metadata": {},
   "outputs": [],
   "source": [
    "dwi_files = layout.get(datatype=\"dwi\", extension=[\"nii.gz\", \"nii\"], return_type=\"file\")"
   ]
  },
  {
   "cell_type": "code",
   "execution_count": null,
   "metadata": {},
   "outputs": [],
   "source": [
    "dwi_file = dwi_files[0]\n",
    "bvec_file = layout.get_bvec(dwi_file)\n",
    "bval_file = layout.get_bval(dwi_file)"
   ]
  },
  {
   "cell_type": "code",
   "execution_count": null,
   "metadata": {},
   "outputs": [],
   "source": [
    "test_wf = init_mrtrix_wf()\n",
    "test_wf.base_dir = os.getcwd()\n",
    "\n",
    "inputspec = test_wf.get_node(\"inputnode\")\n",
    "inputspec.inputs.dwi_file = dwi_file\n",
    "inputspec.inputs.bvec_file = bvec_file\n",
    "inputspec.inputs.bval_file = bval_file\n",
    "\n",
    "test_wf.write_graph(graph2use=\"colored\")\n",
    "test_wf.config[\"execution\"][\"remove_unnecessary_outputs\"] = False\n",
    "test_wf.config[\"execution\"][\"keep_inputs\"] = True\n",
    "\n",
    "test_wf.run()"
   ]
  }
 ],
 "metadata": {
  "kernelspec": {
   "display_name": "dwi_venv",
   "language": "python",
   "name": "dwi_venv"
  },
  "language_info": {
   "codemirror_mode": {
    "name": "ipython",
    "version": 3
   },
   "file_extension": ".py",
   "mimetype": "text/x-python",
   "name": "python",
   "nbconvert_exporter": "python",
   "pygments_lexer": "ipython3",
   "version": "3.7.3"
  }
 },
 "nbformat": 4,
 "nbformat_minor": 2
}
